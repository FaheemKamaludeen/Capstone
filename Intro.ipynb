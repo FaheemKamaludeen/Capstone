{
 "cells": [
  {
   "cell_type": "markdown",
   "metadata": {},
   "source": [
    "## Introduction"
   ]
  },
  {
   "cell_type": "markdown",
   "metadata": {},
   "source": [
    "For this capstone project, I have taken a scenario where a businessman wants to start a Indian restaurant in Toronto City. The business would like to find the best area to start this new restaurant such that it has the least competition from other Indian Restaurants in the neighborhood. I design a project to help achieve this by finding places that are viable and places with have the most competition in the City of Toronto for Indian Restaurants."
   ]
  },
  {
   "cell_type": "markdown",
   "metadata": {},
   "source": [
    "## Business Problem"
   ]
  },
  {
   "cell_type": "markdown",
   "metadata": {},
   "source": [
    "The goal is to find options of the best places for a businessman to start a Indian Restaurant. This project is should be able to answer the question which places are good options for them to start their business."
   ]
  },
  {
   "cell_type": "markdown",
   "metadata": {},
   "source": [
    "## Data"
   ]
  },
  {
   "cell_type": "markdown",
   "metadata": {},
   "source": [
    "The data that is going to be used are as follows\n",
    "\n",
    "1.List of neighborhoods using postcodes taken from https://en.wikipedia.org/wiki/List_of_postal_codes_of_Canada:_M \n",
    "    This contains all the postcodes used in Toronto Region and by categorizing we can get the neighborhoods for each postal code provided to form a dataframe.\n",
    "    \n",
    "2.Geometric Data for the respective neighborhoods which is taken from https://cocl.us/Geospatial_data \n",
    "    This is a table which contains the geometric data(latitudes and longitudes) for each of the postal codes which can be used to map the neighborhoods.\n",
    "    \n",
    "3.Foursquare API venue search for Indian Restaurants in Toronto Region \n",
    "    This Data comprises of results of the query for Indian Restaurants in the City of Toronto which can be used to find areas with least competition for the businessman.\n",
    "    Example of one result obtained from foursquare API is as follows \n",
    "    {'id': '4ae4c793f964a5201b9e21e3',\n",
    "    'name': 'The Famous Indian Restaurant',\n",
    "    'location': {'address': '1410 Gerrard St E',\n",
    "     'crossStreet': 'at Ashdale Ave',\n",
    "     'lat': 43.672339,\n",
    "     'lng': -79.321941,\n",
    "     'labeledLatLngs': [{'label': 'display',\n",
    "       'lat': 43.672339,\n",
    "       'lng': -79.321941}],\n",
    "     'distance': 5415,\n",
    "     'postalCode': 'M4L 1Z2',\n",
    "     'cc': 'CA',\n",
    "     'neighborhood': 'Little India, Toronto, ON',\n",
    "     'city': 'Toronto',\n",
    "     'state': 'ON',\n",
    "     'country': 'Canada',\n",
    "     'formattedAddress': ['1410 Gerrard St E (at Ashdale Ave)',\n",
    "      'Toronto ON M4L 1Z2',\n",
    "      'Canada']},"
   ]
  },
  {
   "cell_type": "code",
   "execution_count": null,
   "metadata": {},
   "outputs": [],
   "source": []
  }
 ],
 "metadata": {
  "kernelspec": {
   "display_name": "Python",
   "language": "python",
   "name": "conda-env-python-py"
  },
  "language_info": {
   "codemirror_mode": {
    "name": "ipython",
    "version": 3
   },
   "file_extension": ".py",
   "mimetype": "text/x-python",
   "name": "python",
   "nbconvert_exporter": "python",
   "pygments_lexer": "ipython3",
   "version": "3.6.10"
  }
 },
 "nbformat": 4,
 "nbformat_minor": 4
}
